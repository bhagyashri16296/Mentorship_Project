{
 "cells": [
  {
   "cell_type": "code",
   "execution_count": 1,
   "id": "1317e3f5-0386-4902-ad20-0dc58e50962e",
   "metadata": {},
   "outputs": [],
   "source": [
    "# Import Libraries.\n",
    "import pandas as pd\n",
    "import seaborn as sns\n",
    "import matplotlib.pyplot as plt\n",
    "from sklearn.preprocessing import StandardScaler, OneHotEncoder\n",
    "from sklearn.cluster import KMeans\n",
    "from sklearn.metrics import silhouette_score\n",
    "import warnings\n",
    "warnings.filterwarnings(\"ignore\")"
   ]
  },
  {
   "cell_type": "markdown",
   "id": "bd9e09a9-b2cb-4279-8feb-d9bee2fc84f1",
   "metadata": {},
   "source": [
    "## 1 Load the Dataset"
   ]
  },
  {
   "cell_type": "code",
   "execution_count": 4,
   "id": "f9172b11-a0ea-402e-bf78-2c0230edf22a",
   "metadata": {},
   "outputs": [],
   "source": [
    "# Load the dataset\n",
    "df = pd.read_csv(\"Copy of Online Retail.csv\",encoding='ISO-8859-1')"
   ]
  },
  {
   "cell_type": "markdown",
   "id": "ada437e5-0605-4d13-9d13-82aff1ab1b6d",
   "metadata": {},
   "source": [
    "## 2 Understand The Data"
   ]
  },
  {
   "cell_type": "code",
   "execution_count": 7,
   "id": "96e8b099-8361-4976-a12a-1390fefb07b6",
   "metadata": {},
   "outputs": [
    {
     "data": {
      "text/html": [
       "<div>\n",
       "<style scoped>\n",
       "    .dataframe tbody tr th:only-of-type {\n",
       "        vertical-align: middle;\n",
       "    }\n",
       "\n",
       "    .dataframe tbody tr th {\n",
       "        vertical-align: top;\n",
       "    }\n",
       "\n",
       "    .dataframe thead th {\n",
       "        text-align: right;\n",
       "    }\n",
       "</style>\n",
       "<table border=\"1\" class=\"dataframe\">\n",
       "  <thead>\n",
       "    <tr style=\"text-align: right;\">\n",
       "      <th></th>\n",
       "      <th>InvoiceNo</th>\n",
       "      <th>StockCode</th>\n",
       "      <th>Description</th>\n",
       "      <th>Quantity</th>\n",
       "      <th>InvoiceDate</th>\n",
       "      <th>UnitPrice</th>\n",
       "      <th>CustomerID</th>\n",
       "      <th>Country</th>\n",
       "    </tr>\n",
       "  </thead>\n",
       "  <tbody>\n",
       "    <tr>\n",
       "      <th>0</th>\n",
       "      <td>536365</td>\n",
       "      <td>85123A</td>\n",
       "      <td>WHITE HANGING HEART T-LIGHT HOLDER</td>\n",
       "      <td>6</td>\n",
       "      <td>12/1/2010 8:26</td>\n",
       "      <td>2.55</td>\n",
       "      <td>17850.0</td>\n",
       "      <td>United Kingdom</td>\n",
       "    </tr>\n",
       "    <tr>\n",
       "      <th>1</th>\n",
       "      <td>536365</td>\n",
       "      <td>71053</td>\n",
       "      <td>WHITE METAL LANTERN</td>\n",
       "      <td>6</td>\n",
       "      <td>12/1/2010 8:26</td>\n",
       "      <td>3.39</td>\n",
       "      <td>17850.0</td>\n",
       "      <td>United Kingdom</td>\n",
       "    </tr>\n",
       "    <tr>\n",
       "      <th>2</th>\n",
       "      <td>536365</td>\n",
       "      <td>84406B</td>\n",
       "      <td>CREAM CUPID HEARTS COAT HANGER</td>\n",
       "      <td>8</td>\n",
       "      <td>12/1/2010 8:26</td>\n",
       "      <td>2.75</td>\n",
       "      <td>17850.0</td>\n",
       "      <td>United Kingdom</td>\n",
       "    </tr>\n",
       "    <tr>\n",
       "      <th>3</th>\n",
       "      <td>536365</td>\n",
       "      <td>84029G</td>\n",
       "      <td>KNITTED UNION FLAG HOT WATER BOTTLE</td>\n",
       "      <td>6</td>\n",
       "      <td>12/1/2010 8:26</td>\n",
       "      <td>3.39</td>\n",
       "      <td>17850.0</td>\n",
       "      <td>United Kingdom</td>\n",
       "    </tr>\n",
       "    <tr>\n",
       "      <th>4</th>\n",
       "      <td>536365</td>\n",
       "      <td>84029E</td>\n",
       "      <td>RED WOOLLY HOTTIE WHITE HEART.</td>\n",
       "      <td>6</td>\n",
       "      <td>12/1/2010 8:26</td>\n",
       "      <td>3.39</td>\n",
       "      <td>17850.0</td>\n",
       "      <td>United Kingdom</td>\n",
       "    </tr>\n",
       "  </tbody>\n",
       "</table>\n",
       "</div>"
      ],
      "text/plain": [
       "  InvoiceNo StockCode                          Description  Quantity  \\\n",
       "0    536365    85123A   WHITE HANGING HEART T-LIGHT HOLDER         6   \n",
       "1    536365     71053                  WHITE METAL LANTERN         6   \n",
       "2    536365    84406B       CREAM CUPID HEARTS COAT HANGER         8   \n",
       "3    536365    84029G  KNITTED UNION FLAG HOT WATER BOTTLE         6   \n",
       "4    536365    84029E       RED WOOLLY HOTTIE WHITE HEART.         6   \n",
       "\n",
       "      InvoiceDate  UnitPrice  CustomerID         Country  \n",
       "0  12/1/2010 8:26       2.55     17850.0  United Kingdom  \n",
       "1  12/1/2010 8:26       3.39     17850.0  United Kingdom  \n",
       "2  12/1/2010 8:26       2.75     17850.0  United Kingdom  \n",
       "3  12/1/2010 8:26       3.39     17850.0  United Kingdom  \n",
       "4  12/1/2010 8:26       3.39     17850.0  United Kingdom  "
      ]
     },
     "execution_count": 7,
     "metadata": {},
     "output_type": "execute_result"
    }
   ],
   "source": [
    "# Checking first 5 rows of data \n",
    "df.head()"
   ]
  },
  {
   "cell_type": "code",
   "execution_count": 9,
   "id": "bc06489c-79ca-46a9-86a2-009752cf17ab",
   "metadata": {},
   "outputs": [
    {
     "data": {
      "text/plain": [
       "(541909, 8)"
      ]
     },
     "execution_count": 9,
     "metadata": {},
     "output_type": "execute_result"
    }
   ],
   "source": [
    "\n",
    "# Dataset have 541909 rows and 8 columns\n",
    "df.shape"
   ]
  },
  {
   "cell_type": "code",
   "execution_count": 11,
   "id": "9f29a275-7156-4319-a6ce-bc382ac8a559",
   "metadata": {},
   "outputs": [
    {
     "name": "stdout",
     "output_type": "stream",
     "text": [
      "<class 'pandas.core.frame.DataFrame'>\n",
      "RangeIndex: 541909 entries, 0 to 541908\n",
      "Data columns (total 8 columns):\n",
      " #   Column       Non-Null Count   Dtype  \n",
      "---  ------       --------------   -----  \n",
      " 0   InvoiceNo    541909 non-null  object \n",
      " 1   StockCode    541909 non-null  object \n",
      " 2   Description  540455 non-null  object \n",
      " 3   Quantity     541909 non-null  int64  \n",
      " 4   InvoiceDate  541909 non-null  object \n",
      " 5   UnitPrice    541909 non-null  float64\n",
      " 6   CustomerID   406829 non-null  float64\n",
      " 7   Country      541909 non-null  object \n",
      "dtypes: float64(2), int64(1), object(5)\n",
      "memory usage: 33.1+ MB\n"
     ]
    }
   ],
   "source": [
    "df.info()"
   ]
  },
  {
   "cell_type": "code",
   "execution_count": 13,
   "id": "792127cc-03b9-423e-87bc-045d036af8e7",
   "metadata": {},
   "outputs": [
    {
     "data": {
      "text/html": [
       "<div>\n",
       "<style scoped>\n",
       "    .dataframe tbody tr th:only-of-type {\n",
       "        vertical-align: middle;\n",
       "    }\n",
       "\n",
       "    .dataframe tbody tr th {\n",
       "        vertical-align: top;\n",
       "    }\n",
       "\n",
       "    .dataframe thead th {\n",
       "        text-align: right;\n",
       "    }\n",
       "</style>\n",
       "<table border=\"1\" class=\"dataframe\">\n",
       "  <thead>\n",
       "    <tr style=\"text-align: right;\">\n",
       "      <th></th>\n",
       "      <th>count</th>\n",
       "      <th>mean</th>\n",
       "      <th>std</th>\n",
       "      <th>min</th>\n",
       "      <th>25%</th>\n",
       "      <th>50%</th>\n",
       "      <th>75%</th>\n",
       "      <th>max</th>\n",
       "    </tr>\n",
       "  </thead>\n",
       "  <tbody>\n",
       "    <tr>\n",
       "      <th>Quantity</th>\n",
       "      <td>541909.0</td>\n",
       "      <td>9.552250</td>\n",
       "      <td>218.081158</td>\n",
       "      <td>-80995.00</td>\n",
       "      <td>1.00</td>\n",
       "      <td>3.00</td>\n",
       "      <td>10.00</td>\n",
       "      <td>80995.0</td>\n",
       "    </tr>\n",
       "    <tr>\n",
       "      <th>UnitPrice</th>\n",
       "      <td>541909.0</td>\n",
       "      <td>4.611114</td>\n",
       "      <td>96.759853</td>\n",
       "      <td>-11062.06</td>\n",
       "      <td>1.25</td>\n",
       "      <td>2.08</td>\n",
       "      <td>4.13</td>\n",
       "      <td>38970.0</td>\n",
       "    </tr>\n",
       "    <tr>\n",
       "      <th>CustomerID</th>\n",
       "      <td>406829.0</td>\n",
       "      <td>15287.690570</td>\n",
       "      <td>1713.600303</td>\n",
       "      <td>12346.00</td>\n",
       "      <td>13953.00</td>\n",
       "      <td>15152.00</td>\n",
       "      <td>16791.00</td>\n",
       "      <td>18287.0</td>\n",
       "    </tr>\n",
       "  </tbody>\n",
       "</table>\n",
       "</div>"
      ],
      "text/plain": [
       "               count          mean          std       min       25%       50%  \\\n",
       "Quantity    541909.0      9.552250   218.081158 -80995.00      1.00      3.00   \n",
       "UnitPrice   541909.0      4.611114    96.759853 -11062.06      1.25      2.08   \n",
       "CustomerID  406829.0  15287.690570  1713.600303  12346.00  13953.00  15152.00   \n",
       "\n",
       "                 75%      max  \n",
       "Quantity       10.00  80995.0  \n",
       "UnitPrice       4.13  38970.0  \n",
       "CustomerID  16791.00  18287.0  "
      ]
     },
     "execution_count": 13,
     "metadata": {},
     "output_type": "execute_result"
    }
   ],
   "source": [
    "# Some statistics about numerical columns\n",
    "df.describe().T"
   ]
  },
  {
   "cell_type": "code",
   "execution_count": 15,
   "id": "4e1ea222-f7fb-4514-b5a3-628280604c7c",
   "metadata": {},
   "outputs": [
    {
     "data": {
      "text/plain": [
       "InvoiceNo           0\n",
       "StockCode           0\n",
       "Description      1454\n",
       "Quantity            0\n",
       "InvoiceDate         0\n",
       "UnitPrice           0\n",
       "CustomerID     135080\n",
       "Country             0\n",
       "dtype: int64"
      ]
     },
     "execution_count": 15,
     "metadata": {},
     "output_type": "execute_result"
    }
   ],
   "source": [
    "# Checking for missing values\n",
    "df.isnull().sum()"
   ]
  },
  {
   "cell_type": "code",
   "execution_count": 17,
   "id": "0022e8dd-8399-48fe-a29f-28bec79ce141",
   "metadata": {},
   "outputs": [
    {
     "data": {
      "text/plain": [
       "InvoiceNo       0.00\n",
       "StockCode       0.00\n",
       "Description     0.27\n",
       "Quantity        0.00\n",
       "InvoiceDate     0.00\n",
       "UnitPrice       0.00\n",
       "CustomerID     24.93\n",
       "Country         0.00\n",
       "dtype: float64"
      ]
     },
     "execution_count": 17,
     "metadata": {},
     "output_type": "execute_result"
    }
   ],
   "source": [
    "# Missing value count in the form of Percentage(%)\n",
    "round((df.isnull().sum() / len(df) ) * 100,2)  "
   ]
  },
  {
   "cell_type": "markdown",
   "id": "cb0512df-4a90-4411-a2dc-55e088513853",
   "metadata": {},
   "source": [
    "## 3 Clean The Data"
   ]
  },
  {
   "cell_type": "code",
   "execution_count": 20,
   "id": "2103d9ca-539b-4723-b112-7bcf7f44e22a",
   "metadata": {},
   "outputs": [],
   "source": [
    "# Description column contains 0.27 % of missing values\n",
    "df['Description'].astype(str).fillna('Unknown', inplace=True)\n",
    "\n",
    "# CustomerID column contains about 25% of misssing values\n",
    "df[\"CustomerID\"].fillna(-1, inplace=True)  "
   ]
  },
  {
   "cell_type": "code",
   "execution_count": 22,
   "id": "35fc1606-da43-47de-b98c-2f44f1123486",
   "metadata": {},
   "outputs": [
    {
     "data": {
      "text/plain": [
       "InvoiceNo         0\n",
       "StockCode         0\n",
       "Description    1454\n",
       "Quantity          0\n",
       "InvoiceDate       0\n",
       "UnitPrice         0\n",
       "CustomerID        0\n",
       "Country           0\n",
       "dtype: int64"
      ]
     },
     "execution_count": 22,
     "metadata": {},
     "output_type": "execute_result"
    }
   ],
   "source": [
    "# All missing values get handled\n",
    "df.isnull().sum()"
   ]
  },
  {
   "cell_type": "code",
   "execution_count": 24,
   "id": "0a0a35bd-7334-492a-8232-f5acf3faae2a",
   "metadata": {},
   "outputs": [],
   "source": [
    "# Convert data types\n",
    "df[\"CustomerID\"] = df[\"CustomerID\"].astype(int)\n",
    "df[\"InvoiceDate\"] = pd.to_datetime(df[\"InvoiceDate\"])"
   ]
  },
  {
   "cell_type": "code",
   "execution_count": 26,
   "id": "9023a834-62f0-4e1c-8c0a-04707c789049",
   "metadata": {},
   "outputs": [
    {
     "data": {
      "text/plain": [
       "5268"
      ]
     },
     "execution_count": 26,
     "metadata": {},
     "output_type": "execute_result"
    }
   ],
   "source": [
    "df.duplicated().sum()"
   ]
  },
  {
   "cell_type": "code",
   "execution_count": 28,
   "id": "91826396-25e0-4753-9f85-4b86f9613e47",
   "metadata": {},
   "outputs": [],
   "source": [
    "# Remove duplicates\n",
    "df.drop_duplicates(inplace=True)"
   ]
  },
  {
   "cell_type": "markdown",
   "id": "b6f3e64d-1b8e-43dd-be62-1f784285c5ea",
   "metadata": {},
   "source": [
    "## 4 Transform The Data"
   ]
  },
  {
   "cell_type": "code",
   "execution_count": 31,
   "id": "2373ee6d-208b-42aa-9ee9-4a4f27ef7fb3",
   "metadata": {},
   "outputs": [],
   "source": [
    "scaler = StandardScaler()\n",
    "encoder = OneHotEncoder(handle_unknown=\"ignore\", sparse_output=False)"
   ]
  },
  {
   "cell_type": "code",
   "execution_count": 33,
   "id": "7bc0b727-5197-4c36-800f-416356f025c2",
   "metadata": {},
   "outputs": [],
   "source": [
    "# Standardize numeric columns\n",
    "df[[\"Quantity\", \"UnitPrice\"]] = scaler.fit_transform(df[[\"Quantity\", \"UnitPrice\"]])"
   ]
  },
  {
   "cell_type": "code",
   "execution_count": 35,
   "id": "e575c08b-cd3a-47ad-8a2e-99cc22723bee",
   "metadata": {},
   "outputs": [],
   "source": [
    "# One-Hot Encode 'Country'\n",
    "encoded_array = encoder.fit_transform(df[[\"Country\"]])\n",
    "encoded_cols = pd.DataFrame(encoded_array, columns=encoder.get_feature_names_out([\"Country\"]))"
   ]
  },
  {
   "cell_type": "code",
   "execution_count": 37,
   "id": "c07a3048-1225-4ecd-ad91-b4b6e02bc063",
   "metadata": {},
   "outputs": [],
   "source": [
    "# Merge with dataset\n",
    "df = df.drop(columns=[\"Country\"]).reset_index(drop=True)\n",
    "df = pd.concat([df, encoded_cols], axis=1)"
   ]
  },
  {
   "cell_type": "markdown",
   "id": "c7fc4231-e28b-4509-b917-60323caf24c0",
   "metadata": {},
   "source": [
    "## 5 Feature Enigineering"
   ]
  },
  {
   "cell_type": "code",
   "execution_count": 40,
   "id": "3d2970e1-d833-4e23-9adc-6c42b65e08c0",
   "metadata": {},
   "outputs": [],
   "source": [
    "df[\"TotalPrice\"] = df[\"Quantity\"] * df[\"UnitPrice\"]\n",
    "df[\"Year\"] = df[\"InvoiceDate\"].dt.year\n",
    "df[\"Month\"] = df[\"InvoiceDate\"].dt.month\n",
    "df[\"Day\"] = df[\"InvoiceDate\"].dt.day\n",
    "df[\"Hour\"] = df[\"InvoiceDate\"].dt.hour"
   ]
  },
  {
   "cell_type": "code",
   "execution_count": 42,
   "id": "b6bfff1e-721c-431d-b0e9-cd5493144381",
   "metadata": {},
   "outputs": [],
   "source": [
    "# Create Revenue per CustomerID\n",
    "df[\"Revenue\"] = df.groupby(\"CustomerID\")[\"TotalPrice\"].transform(\"sum\")\n",
    "\n",
    "# Calculate Order Frequency per Customer\n",
    "df[\"OrderFrequency\"] = df.groupby(\"CustomerID\")[\"InvoiceNo\"].transform(\"count\")\n",
    "\n",
    "# Calculate Recency (days since last purchase)\n",
    "max_date = df[\"InvoiceDate\"].max()\n",
    "df[\"Recency\"] = (max_date - df.groupby(\"CustomerID\")[\"InvoiceDate\"].transform(\"max\")).dt.days\n",
    "\n",
    "# Drop InvoiceDate after extracting features\n",
    "df.drop(columns=[\"InvoiceDate\"], inplace=True)"
   ]
  },
  {
   "cell_type": "code",
   "execution_count": 44,
   "id": "568f0c81-a838-45d6-9594-f8a69c93123d",
   "metadata": {},
   "outputs": [],
   "source": [
    "# Feature Selection - Keep only relevant features\n",
    "features = [\"Revenue\", \"OrderFrequency\", \"Recency\", \"TotalPrice\"]\n",
    "X = df[features].dropna()\n"
   ]
  },
  {
   "cell_type": "code",
   "execution_count": 46,
   "id": "23936c1a-8db5-4110-945c-629830032ea2",
   "metadata": {},
   "outputs": [
    {
     "data": {
      "text/html": [
       "<div>\n",
       "<style scoped>\n",
       "    .dataframe tbody tr th:only-of-type {\n",
       "        vertical-align: middle;\n",
       "    }\n",
       "\n",
       "    .dataframe tbody tr th {\n",
       "        vertical-align: top;\n",
       "    }\n",
       "\n",
       "    .dataframe thead th {\n",
       "        text-align: right;\n",
       "    }\n",
       "</style>\n",
       "<table border=\"1\" class=\"dataframe\">\n",
       "  <thead>\n",
       "    <tr style=\"text-align: right;\">\n",
       "      <th></th>\n",
       "      <th>Revenue</th>\n",
       "      <th>OrderFrequency</th>\n",
       "      <th>Recency</th>\n",
       "      <th>TotalPrice</th>\n",
       "    </tr>\n",
       "  </thead>\n",
       "  <tbody>\n",
       "    <tr>\n",
       "      <th>0</th>\n",
       "      <td>-0.019688</td>\n",
       "      <td>309</td>\n",
       "      <td>301</td>\n",
       "      <td>0.000354</td>\n",
       "    </tr>\n",
       "    <tr>\n",
       "      <th>1</th>\n",
       "      <td>-0.019688</td>\n",
       "      <td>309</td>\n",
       "      <td>301</td>\n",
       "      <td>0.000211</td>\n",
       "    </tr>\n",
       "    <tr>\n",
       "      <th>2</th>\n",
       "      <td>-0.019688</td>\n",
       "      <td>309</td>\n",
       "      <td>301</td>\n",
       "      <td>0.000143</td>\n",
       "    </tr>\n",
       "    <tr>\n",
       "      <th>3</th>\n",
       "      <td>-0.019688</td>\n",
       "      <td>309</td>\n",
       "      <td>301</td>\n",
       "      <td>0.000211</td>\n",
       "    </tr>\n",
       "    <tr>\n",
       "      <th>4</th>\n",
       "      <td>-0.019688</td>\n",
       "      <td>309</td>\n",
       "      <td>301</td>\n",
       "      <td>0.000211</td>\n",
       "    </tr>\n",
       "  </tbody>\n",
       "</table>\n",
       "</div>"
      ],
      "text/plain": [
       "    Revenue  OrderFrequency  Recency  TotalPrice\n",
       "0 -0.019688             309      301    0.000354\n",
       "1 -0.019688             309      301    0.000211\n",
       "2 -0.019688             309      301    0.000143\n",
       "3 -0.019688             309      301    0.000211\n",
       "4 -0.019688             309      301    0.000211"
      ]
     },
     "execution_count": 46,
     "metadata": {},
     "output_type": "execute_result"
    }
   ],
   "source": [
    "X.head()"
   ]
  },
  {
   "cell_type": "code",
   "execution_count": 48,
   "id": "550f7c7e-6a80-46ac-9a73-aae7469c670b",
   "metadata": {},
   "outputs": [],
   "source": [
    "# Standardize features\n",
    "X_scaled = scaler.fit_transform(X)"
   ]
  },
  {
   "cell_type": "code",
   "execution_count": 50,
   "id": "58e26ef2-379b-4bcd-b12e-d708b2d28178",
   "metadata": {},
   "outputs": [
    {
     "data": {
      "text/plain": [
       "array([[ 0.58655403, -0.58581393,  4.65634621,  0.02795051],\n",
       "       [ 0.58655403, -0.58581393,  4.65634621,  0.02544938],\n",
       "       [ 0.58655403, -0.58581393,  4.65634621,  0.02425797],\n",
       "       ...,\n",
       "       [ 0.58640693, -0.59022028, -0.49895947,  0.02398044],\n",
       "       [ 0.58640693, -0.59022028, -0.49895947,  0.02398044],\n",
       "       [ 0.58640693, -0.59022028, -0.49895947,  0.02002137]])"
      ]
     },
     "execution_count": 50,
     "metadata": {},
     "output_type": "execute_result"
    }
   ],
   "source": [
    "X_scaled"
   ]
  },
  {
   "cell_type": "code",
   "execution_count": 52,
   "id": "26acc0b8-22cd-45f5-a918-c612295992eb",
   "metadata": {},
   "outputs": [
    {
     "data": {
      "image/png": "[encoded data removed]",
      "text/plain": [
       "<Figure size 600x400 with 2 Axes>"
      ]
     },
     "metadata": {},
     "output_type": "display_data"
    }
   ],
   "source": [
    "# Compute correlation matrix\n",
    "corr_matrix = X.corr()\n",
    "\n",
    "# Plot correlation heatmap\n",
    "plt.figure(figsize=(6, 4))\n",
    "sns.heatmap(corr_matrix, annot=True, cmap=\"coolwarm\", fmt=\".2f\", linewidths=0.5)\n",
    "plt.title(\"Feature Correlation Heatmap\")\n",
    "plt.show()"
   ]
  },
  {
   "cell_type": "code",
   "execution_count": null,
   "id": "cf3096d8-f122-445b-8a15-f6ed1cbaeac2",
   "metadata": {},
   "outputs": [],
   "source": []
  },
  {
   "cell_type": "code",
   "execution_count": null,
   "id": "7cac63bb-b43f-4b68-8dd2-108aaff75c50",
   "metadata": {},
   "outputs": [],
   "source": []
  }
 ],
 "metadata": {
  "kernelspec": {
   "display_name": "Python 3 (ipykernel)",
   "language": "python",
   "name": "python3"
  },
  "language_info": {
   "codemirror_mode": {
    "name": "ipython",
    "version": 3
   },
   "file_extension": ".py",
   "mimetype": "text/x-python",
   "name": "python",
   "nbconvert_exporter": "python",
   "pygments_lexer": "ipython3",
   "version": "3.12.4"
  }
 },
 "nbformat": 4,
 "nbformat_minor": 5
}
